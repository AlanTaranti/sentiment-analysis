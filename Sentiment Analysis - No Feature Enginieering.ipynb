{
 "cells": [
  {
   "cell_type": "markdown",
   "metadata": {},
   "source": [
    "# Sentiment Analysis do Twitter Sem Feature Enginieering"
   ]
  },
  {
   "cell_type": "markdown",
   "metadata": {},
   "source": [
    "## Carregar bibliotecas"
   ]
  },
  {
   "cell_type": "code",
   "execution_count": 1,
   "metadata": {},
   "outputs": [],
   "source": [
    "import random, itertools\n",
    "import numpy as np\n",
    "import pandas as pd\n",
    "from sklearn.model_selection import train_test_split\n",
    "from textblob import TextBlob\n",
    "from sklearn.metrics import f1_score\n",
    "from sklearn.model_selection import cross_val_score\n",
    "from sklearn.linear_model import LogisticRegression\n",
    "\n",
    "\n",
    "from IPython.display import clear_output\n",
    "from sklearn import preprocessing\n",
    "import matplotlib.pyplot as plt\n",
    "\n",
    "# Gensim\n",
    "from gensim import utils\n",
    "from gensim.models.doc2vec import TaggedDocument\n",
    "from gensim.models import Doc2Vec"
   ]
  },
  {
   "cell_type": "markdown",
   "metadata": {},
   "source": [
    "## Carregar dados"
   ]
  },
  {
   "cell_type": "code",
   "execution_count": 2,
   "metadata": {},
   "outputs": [
    {
     "data": {
      "text/html": [
       "<div>\n",
       "<style scoped>\n",
       "    .dataframe tbody tr th:only-of-type {\n",
       "        vertical-align: middle;\n",
       "    }\n",
       "\n",
       "    .dataframe tbody tr th {\n",
       "        vertical-align: top;\n",
       "    }\n",
       "\n",
       "    .dataframe thead th {\n",
       "        text-align: right;\n",
       "    }\n",
       "</style>\n",
       "<table border=\"1\" class=\"dataframe\">\n",
       "  <thead>\n",
       "    <tr style=\"text-align: right;\">\n",
       "      <th></th>\n",
       "      <th>id</th>\n",
       "      <th>token</th>\n",
       "      <th>sentiment</th>\n",
       "      <th>text</th>\n",
       "    </tr>\n",
       "  </thead>\n",
       "  <tbody>\n",
       "    <tr>\n",
       "      <th>0</th>\n",
       "      <td>264183816548130816</td>\n",
       "      <td>15140428</td>\n",
       "      <td>positive</td>\n",
       "      <td>Gas by my house hit $3.39!!!! I'm going to Cha...</td>\n",
       "    </tr>\n",
       "    <tr>\n",
       "      <th>1</th>\n",
       "      <td>264249301910310912</td>\n",
       "      <td>18516728</td>\n",
       "      <td>negative</td>\n",
       "      <td>Iranian general says Israel's Iron Dome can't ...</td>\n",
       "    </tr>\n",
       "    <tr>\n",
       "      <th>2</th>\n",
       "      <td>264105751826538497</td>\n",
       "      <td>147088367</td>\n",
       "      <td>positive</td>\n",
       "      <td>with J Davlar 11th. Main rivals are team Polan...</td>\n",
       "    </tr>\n",
       "    <tr>\n",
       "      <th>3</th>\n",
       "      <td>264094586689953794</td>\n",
       "      <td>332474633</td>\n",
       "      <td>negative</td>\n",
       "      <td>Talking about ACT's &amp;amp;&amp;amp; SAT's, deciding...</td>\n",
       "    </tr>\n",
       "    <tr>\n",
       "      <th>4</th>\n",
       "      <td>254941790757601280</td>\n",
       "      <td>557103111</td>\n",
       "      <td>negative</td>\n",
       "      <td>They may have a SuperBowl in Dallas, but Dalla...</td>\n",
       "    </tr>\n",
       "  </tbody>\n",
       "</table>\n",
       "</div>"
      ],
      "text/plain": [
       "                   id      token sentiment  \\\n",
       "0  264183816548130816   15140428  positive   \n",
       "1  264249301910310912   18516728  negative   \n",
       "2  264105751826538497  147088367  positive   \n",
       "3  264094586689953794  332474633  negative   \n",
       "4  254941790757601280  557103111  negative   \n",
       "\n",
       "                                                text  \n",
       "0  Gas by my house hit $3.39!!!! I'm going to Cha...  \n",
       "1  Iranian general says Israel's Iron Dome can't ...  \n",
       "2  with J Davlar 11th. Main rivals are team Polan...  \n",
       "3  Talking about ACT's &amp;&amp; SAT's, deciding...  \n",
       "4  They may have a SuperBowl in Dallas, but Dalla...  "
      ]
     },
     "execution_count": 2,
     "metadata": {},
     "output_type": "execute_result"
    }
   ],
   "source": [
    "dataset_semeval = pd.read_csv('datasets/SemEval2013_task2/allTrainingData.tsv',delimiter='\\t',names=['id','token','sentiment','text'])\n",
    "dataset_semeval.head()"
   ]
  },
  {
   "cell_type": "markdown",
   "metadata": {},
   "source": [
    "### Eliminar Colunas não utilizadas"
   ]
  },
  {
   "cell_type": "code",
   "execution_count": 3,
   "metadata": {
    "scrolled": true
   },
   "outputs": [
    {
     "data": {
      "text/html": [
       "<div>\n",
       "<style scoped>\n",
       "    .dataframe tbody tr th:only-of-type {\n",
       "        vertical-align: middle;\n",
       "    }\n",
       "\n",
       "    .dataframe tbody tr th {\n",
       "        vertical-align: top;\n",
       "    }\n",
       "\n",
       "    .dataframe thead th {\n",
       "        text-align: right;\n",
       "    }\n",
       "</style>\n",
       "<table border=\"1\" class=\"dataframe\">\n",
       "  <thead>\n",
       "    <tr style=\"text-align: right;\">\n",
       "      <th></th>\n",
       "      <th>text</th>\n",
       "      <th>sentiment</th>\n",
       "    </tr>\n",
       "  </thead>\n",
       "  <tbody>\n",
       "    <tr>\n",
       "      <th>0</th>\n",
       "      <td>Gas by my house hit $3.39!!!! I'm going to Cha...</td>\n",
       "      <td>positive</td>\n",
       "    </tr>\n",
       "    <tr>\n",
       "      <th>1</th>\n",
       "      <td>Iranian general says Israel's Iron Dome can't ...</td>\n",
       "      <td>negative</td>\n",
       "    </tr>\n",
       "    <tr>\n",
       "      <th>2</th>\n",
       "      <td>with J Davlar 11th. Main rivals are team Polan...</td>\n",
       "      <td>positive</td>\n",
       "    </tr>\n",
       "    <tr>\n",
       "      <th>3</th>\n",
       "      <td>Talking about ACT's &amp;amp;&amp;amp; SAT's, deciding...</td>\n",
       "      <td>negative</td>\n",
       "    </tr>\n",
       "    <tr>\n",
       "      <th>4</th>\n",
       "      <td>They may have a SuperBowl in Dallas, but Dalla...</td>\n",
       "      <td>negative</td>\n",
       "    </tr>\n",
       "  </tbody>\n",
       "</table>\n",
       "</div>"
      ],
      "text/plain": [
       "                                                text sentiment\n",
       "0  Gas by my house hit $3.39!!!! I'm going to Cha...  positive\n",
       "1  Iranian general says Israel's Iron Dome can't ...  negative\n",
       "2  with J Davlar 11th. Main rivals are team Polan...  positive\n",
       "3  Talking about ACT's &amp;&amp; SAT's, deciding...  negative\n",
       "4  They may have a SuperBowl in Dallas, but Dalla...  negative"
      ]
     },
     "execution_count": 3,
     "metadata": {},
     "output_type": "execute_result"
    }
   ],
   "source": [
    "dataset_semeval = dataset_semeval.loc[:,['text','sentiment']]\n",
    "dataset_semeval.head()"
   ]
  },
  {
   "cell_type": "markdown",
   "metadata": {},
   "source": [
    "### Mostrar labels únicas"
   ]
  },
  {
   "cell_type": "code",
   "execution_count": 4,
   "metadata": {},
   "outputs": [
    {
     "name": "stdout",
     "output_type": "stream",
     "text": [
      "['objective-OR-neutral', 'positive', 'negative', 'objective', 'neutral']\n"
     ]
    }
   ],
   "source": [
    "print(list(set(dataset_semeval['sentiment'])))"
   ]
  },
  {
   "cell_type": "markdown",
   "metadata": {},
   "source": [
    "### Converter 'objective-OR-neutral' e 'objective' em 'neutral'"
   ]
  },
  {
   "cell_type": "code",
   "execution_count": 5,
   "metadata": {},
   "outputs": [
    {
     "name": "stdout",
     "output_type": "stream",
     "text": [
      "['neutral', 'positive', 'negative']\n"
     ]
    }
   ],
   "source": [
    "dataset_semeval.loc[dataset_semeval[dataset_semeval.loc[:,'sentiment'] == 'objective-OR-neutral'].index,'sentiment'] = 'neutral'\n",
    "dataset_semeval.loc[dataset_semeval[dataset_semeval.loc[:,'sentiment'] == 'objective'].index,'sentiment'] = 'neutral'\n",
    "\n",
    "# Mostrar labels únicas\n",
    "print(list(set(dataset_semeval['sentiment'])))"
   ]
  },
  {
   "cell_type": "markdown",
   "metadata": {},
   "source": [
    "### Distriuição de sentimentos"
   ]
  },
  {
   "cell_type": "code",
   "execution_count": 6,
   "metadata": {},
   "outputs": [
    {
     "name": "stdout",
     "output_type": "stream",
     "text": [
      "Distribuição de Sentimentos:\n",
      "Total:\t\t 8002 \t100,00%\n",
      "Positivos:\t 2974 \t 37.17%\n",
      "Neutros:\t 3869 \t 48.35%\n",
      "Negativos:\t 1159 \t 14.48%\n"
     ]
    }
   ],
   "source": [
    "qtde_positive = sum(dataset_semeval.loc[:,'sentiment'] == 'positive')\n",
    "qtde_neutral = sum(dataset_semeval.loc[:,'sentiment'] == 'neutral')\n",
    "qtde_negative = sum(dataset_semeval.loc[:,'sentiment'] == 'negative')\n",
    "total = dataset_semeval.shape[0]\n",
    "\n",
    "print('Distribuição de Sentimentos:')\n",
    "print('Total:\\t\\t',total,'\\t100,00%')\n",
    "print('Positivos:\\t',qtde_positive,'\\t',str(round(qtde_positive/total*100,2))+'%')\n",
    "print('Neutros:\\t',qtde_neutral,'\\t',str(round(qtde_neutral/total*100,2))+'%')\n",
    "print('Negativos:\\t',qtde_negative,'\\t',str(round(qtde_negative/total*100,2))+'%')"
   ]
  },
  {
   "cell_type": "markdown",
   "metadata": {},
   "source": [
    "# Separar os Conjuntos de Treinamento e Validação"
   ]
  },
  {
   "cell_type": "code",
   "execution_count": 7,
   "metadata": {},
   "outputs": [],
   "source": [
    "X = dataset_semeval['text']\n",
    "y = dataset_semeval['sentiment']\n",
    "\n",
    "y.iloc[y[y == 'positive'].index] = 1\n",
    "y.iloc[y[y == 'neutral'].index] = 0\n",
    "y.iloc[y[y == 'negative'].index] = -1\n",
    "\n",
    "classes = {\n",
    "    1: 'positive',\n",
    "    0: 'neutral',\n",
    "    -1: 'negative'\n",
    "}"
   ]
  },
  {
   "cell_type": "code",
   "execution_count": 8,
   "metadata": {},
   "outputs": [],
   "source": [
    "X_temp, X_test, Y_temp, y_test = train_test_split(X, y, test_size=0.25, random_state=42)\n",
    "X_train, X_val, y_train, y_val = train_test_split(X_temp, Y_temp, test_size=0.25, random_state=42)"
   ]
  },
  {
   "cell_type": "markdown",
   "metadata": {},
   "source": [
    "# 2. Abordagem Lexicon"
   ]
  },
  {
   "cell_type": "markdown",
   "metadata": {},
   "source": [
    "## 2.1 Definir as Funções"
   ]
  },
  {
   "cell_type": "code",
   "execution_count": 9,
   "metadata": {},
   "outputs": [],
   "source": [
    "def get_polaridade(strings):\n",
    "    polaridade = list()\n",
    "    for item in strings:\n",
    "        blob = TextBlob(item)\n",
    "        polaridade.append(blob.sentiment.polarity)\n",
    "        \n",
    "    return polaridade"
   ]
  },
  {
   "cell_type": "code",
   "execution_count": 10,
   "metadata": {},
   "outputs": [],
   "source": [
    "def classificar_por_polaridade(pol,mid,threshold=0):\n",
    "    if pol < threshold+mid and pol > threshold-mid :\n",
    "        return 0\n",
    "    else:\n",
    "        if pol > threshold:\n",
    "            return 1\n",
    "        else:\n",
    "            return -1"
   ]
  },
  {
   "cell_type": "markdown",
   "metadata": {},
   "source": [
    "## 2.2 Definir Parametros a partir do Conjunto de Treinamento\n",
    "Parâmetros:\n",
    "\n",
    "    Threshold - Determina no limite pelo qual o texto passa a ser considerado positivo ou negativo\n",
    "    \n",
    "    Mid - Determina o intervalo pelo qual o texto passa a ser considerao neutro ou polar"
   ]
  },
  {
   "cell_type": "markdown",
   "metadata": {},
   "source": [
    "## 2.3 Descobrir melhor combinação de parâmetros"
   ]
  },
  {
   "cell_type": "code",
   "execution_count": 11,
   "metadata": {},
   "outputs": [
    {
     "name": "stdout",
     "output_type": "stream",
     "text": [
      "Melhor Threshold: -0.09  - Melhor MID: 0.32 - F1Score: 61.89%\n"
     ]
    }
   ],
   "source": [
    "# Define os parametos\n",
    "mids = np.linspace(0.1,0.9,30)\n",
    "mids = [round(mid,2) for mid in mids]\n",
    "mids = list(set(mids))\n",
    "\n",
    "thresholds = np.linspace(-0.5,0.5,30)\n",
    "thresholds = [round(threshold,2) for threshold in thresholds]\n",
    "thresholds = list(set(thresholds))\n",
    "\n",
    "fscore_threshold_list = list()\n",
    "\n",
    "# Get polaridade\n",
    "polaridade = get_polaridade(X_train.values)\n",
    "\n",
    "for threshold in thresholds:\n",
    "    \n",
    "    fscore_mid_list = list()\n",
    "    \n",
    "    for mid in mids:\n",
    "        classificacao = list()\n",
    "        \n",
    "        for item in polaridade:\n",
    "            classificacao.append(classificar_por_polaridade(item,mid,threshold))\n",
    "        classificacao = np.array(classificacao)\n",
    "\n",
    "        fscore = f1_score(list(y_train.values),classificacao,average='micro')\n",
    "\n",
    "        fscore_mid_list.append(fscore)\n",
    "        \n",
    "    fscore_threshold_list.append(fscore_mid_list)\n",
    "\n",
    "# Busca os melhores resultados\n",
    "best_threshold_index = None\n",
    "best_mid_index = None\n",
    "\n",
    "best_value = 0\n",
    "\n",
    "for i,lista in enumerate(fscore_threshold_list):\n",
    "    \n",
    "    value = np.max(lista)\n",
    "    if value > best_value:\n",
    "        best_threshold_index = i\n",
    "        best_mid_index = np.argmax(lista)\n",
    "        best_value = value\n",
    "        \n",
    "# Imprime os resultados\n",
    "print('Melhor Threshold:',thresholds[best_threshold_index],' - Melhor MID:',mids[best_mid_index],'- F1Score:', str(round(best_value*100,2))+'%')"
   ]
  },
  {
   "cell_type": "markdown",
   "metadata": {},
   "source": [
    "## 2.4 Desempenho no conjunto de validação"
   ]
  },
  {
   "cell_type": "code",
   "execution_count": 12,
   "metadata": {},
   "outputs": [
    {
     "name": "stdout",
     "output_type": "stream",
     "text": [
      "F1Score: 64.89%\n"
     ]
    }
   ],
   "source": [
    "threshold = -0.09\n",
    "mid = 0.32\n",
    "\n",
    "polaridade = list()\n",
    "for item in X_val.values:\n",
    "    blob = TextBlob(item)\n",
    "    polaridade.append(blob.sentiment.polarity)\n",
    "    \n",
    "classificacao = list()\n",
    "for item in polaridade:\n",
    "    classificacao.append(classificar_por_polaridade(item,mid,threshold))\n",
    "classificacao = np.array(classificacao)\n",
    "\n",
    "# F1Score\n",
    "fscore = f1_score(list(y_val.values),classificacao,average='micro')\n",
    "print('F1Score:',str(round(100*fscore,2))+'%')"
   ]
  },
  {
   "cell_type": "markdown",
   "metadata": {},
   "source": [
    "# 3. Abordagem com Aprendizado"
   ]
  },
  {
   "cell_type": "markdown",
   "metadata": {},
   "source": [
    "## 3.1 Funções e Classes"
   ]
  },
  {
   "cell_type": "code",
   "execution_count": 13,
   "metadata": {},
   "outputs": [],
   "source": [
    "class LabeledLineSentence(object):\n",
    "    def __init__(self, sources):\n",
    "        self.sources = sources\n",
    "        self.count = 0\n",
    "    \n",
    "    def to_array(self):\n",
    "        self.sentences = []\n",
    "        for source, value in self.sources.items():\n",
    "            prefix = value[0]\n",
    "            data = value[1]\n",
    "            for item_no, line in enumerate(data):\n",
    "                self.sentences.append(TaggedDocument(utils.to_unicode(line).split(), [prefix + '_%s' % item_no]))\n",
    "                self.count+=1\n",
    "        return self.sentences\n",
    "    \n",
    "    def sentences_perm(self):\n",
    "        shuffled = list(self.sentences)\n",
    "        random.shuffle(shuffled)\n",
    "        return shuffled"
   ]
  },
  {
   "cell_type": "code",
   "execution_count": 14,
   "metadata": {},
   "outputs": [],
   "source": [
    "def train_model(sentences, features=10, window=5, min_count=1, epochs=10, sub_sample=1e-4, dm=0):\n",
    "    \n",
    "    #print('\\nInitializating Doc2Vec...')\n",
    "\n",
    "    # Init Model\n",
    "    model = Doc2Vec(dm=dm, min_count=min_count, window=window, vector_size=features, sample=sub_sample, negative=5, workers=7)\n",
    "    model.build_vocab(sentences.to_array())\n",
    "\n",
    "\n",
    "    # Train Model\n",
    "\n",
    "    # Measure Time\n",
    "    from time import time\n",
    "    \n",
    "    #print('Training Doc2Vec...')\n",
    "\n",
    "    # Start\n",
    "    start = time()\n",
    "\n",
    "    # Train\n",
    "    model.train(sentences.sentences_perm(),total_examples=sentences.count,epochs=epochs)\n",
    "\n",
    "    # End\n",
    "    end = time()\n",
    "\n",
    "    # Elapsed\n",
    "    elapsed = end - start\n",
    "    #print('Duration:',int(elapsed/60),'minutes and',int(elapsed%60),'seconds')\n",
    "    \n",
    "    return model"
   ]
  },
  {
   "cell_type": "code",
   "execution_count": 15,
   "metadata": {},
   "outputs": [],
   "source": [
    "def print_score(clf, titulo, x_tr, y_tr):\n",
    "    \n",
    "    desempenho = calcula_desempenho_algoritmo(clf,x=x_tr,y=y_tr)\n",
    "\n",
    "    print_resultados(titulo, desempenho)"
   ]
  },
  {
   "cell_type": "code",
   "execution_count": 16,
   "metadata": {},
   "outputs": [],
   "source": [
    "def calcula_desempenho_algoritmo(modelo,x,y):\n",
    "    resultados = dict()\n",
    "\n",
    "    resultados = dict()\n",
    "\n",
    "    modelo = modelo.fit(x,y)\n",
    "\n",
    "    scores = cross_val_score(modelo, X, y, cv=10, scoring='accuracy', n_jobs=-1)\n",
    "\n",
    "    resultados['mean'] = scores.mean()\n",
    "    resultados['std'] = scores.std()\n",
    "    resultados['modelo'] = modelo\n",
    "        \n",
    "    return resultados"
   ]
  },
  {
   "cell_type": "code",
   "execution_count": 17,
   "metadata": {},
   "outputs": [],
   "source": [
    "def print_resultados(titulo,resultados):\n",
    "    print('F1 Score ' + titulo +'\\n')\n",
    "    media = round(resultados['mean']*100,2)\n",
    "    std = str(round(resultados['std']*100,2))\n",
    "    print(str(media)+'% +-',std+'%')"
   ]
  },
  {
   "cell_type": "code",
   "execution_count": 18,
   "metadata": {},
   "outputs": [],
   "source": [
    "def plot_learning_curve(estimator, title, X, y, ylim=None, cv=None,\n",
    "                        n_jobs=1, train_sizes=np.linspace(.1, 1.0, 5),scoring=None):\n",
    "    \n",
    "    from sklearn.model_selection import learning_curve\n",
    "    \n",
    "    plt.figure(figsize=(8, 6))\n",
    "    plt.title(title)\n",
    "    \n",
    "       \n",
    "    plt.xlabel(\"Training examples\")\n",
    "    plt.ylabel(\"Score\")\n",
    "    \n",
    "    train_sizes, train_scores, test_scores = learning_curve(\n",
    "        estimator, X, y, cv=cv, n_jobs=n_jobs, train_sizes=train_sizes,scoring=scoring)\n",
    "    \n",
    "    train_scores_mean = np.mean(train_scores, axis=1)\n",
    "    \n",
    "    train_scores_std = np.std(train_scores, axis=1)\n",
    "    \n",
    "    test_scores_mean = np.mean(test_scores, axis=1)\n",
    "    \n",
    "    test_scores_std = np.std(test_scores, axis=1)\n",
    "    \n",
    "    if ylim is not None:\n",
    "        plt.ylim(*ylim)\n",
    "    else:\n",
    "        plt.ylim(round(min([np.min(train_scores),np.min(test_scores)]),2)-0.01,1.01)\n",
    "    \n",
    "    plt.grid()\n",
    "\n",
    "    plt.fill_between(train_sizes, train_scores_mean - train_scores_std,\n",
    "                     train_scores_mean + train_scores_std, alpha=0.1,\n",
    "                     color=\"r\")\n",
    "    plt.fill_between(train_sizes, test_scores_mean - test_scores_std,\n",
    "                     test_scores_mean + test_scores_std, alpha=0.1, color=\"g\")\n",
    "    plt.plot(train_sizes, train_scores_mean, 'o-', color=\"r\",\n",
    "             label=\"Training score\")\n",
    "    plt.plot(train_sizes, test_scores_mean, 'o-', color=\"g\",\n",
    "             label=\"Cross-validation score\")\n",
    "\n",
    "    plt.legend(loc=\"best\")\n",
    "    return plt"
   ]
  },
  {
   "cell_type": "code",
   "execution_count": 19,
   "metadata": {},
   "outputs": [],
   "source": [
    "def split_data_for_gensim(train_pos_set, train_neg_set, train_neu_set, val_pos_set, val_neg_set, val_neu_set, features):\n",
    "    \n",
    "    fea = features\n",
    "    \n",
    "    #\n",
    "    # Train Set\n",
    "    #\n",
    "\n",
    "    # Definr os paramtros \n",
    "    tam_pos = train_pos_set.shape[0]\n",
    "    tam_neg = train_neg_set.shape[0]\n",
    "    tam_neu = train_neu_set.shape[0]\n",
    "    tam = tam_pos + tam_neg + tam_neu\n",
    "    train_arrays = np.zeros((tam, fea))\n",
    "    train_labels = np.zeros(tam)\n",
    "\n",
    "    for i in range(tam_pos):\n",
    "        # Define o prefixo\n",
    "        prefix_train_pos = 'TRAIN_POS_' + str(i)\n",
    "        train_arrays[i] = model.docvecs[prefix_train_pos]\n",
    "        train_labels[i] = 2\n",
    "\n",
    "    for i in range(tam_neg):\n",
    "        prefix_train_neg = 'TRAIN_NEG_' + str(i)\n",
    "        train_arrays[tam_pos + i] = model.docvecs[prefix_train_neg]\n",
    "        train_labels[tam_pos + i] = 0\n",
    "\n",
    "    for i in range(tam_neu):\n",
    "        prefix_train_neu = 'TRAIN_NEU_' + str(i)\n",
    "        train_arrays[tam_pos + tam_neg + i] = model.docvecs[prefix_train_neg]\n",
    "        train_labels[tam_pos + tam_neg + i] = 1\n",
    "\n",
    "    #\n",
    "    # Validation Set\n",
    "    #\n",
    "\n",
    "    # Definr os paramtros\n",
    "    tam_pos = val_pos_set.shape[0]\n",
    "    tam_neg = val_neg_set.shape[0]\n",
    "    tam_neu = val_neu_set.shape[0]\n",
    "    tam = tam_pos + tam_neg + tam_neu\n",
    "    val_arrays = np.zeros((tam, fea))\n",
    "    val_labels = np.zeros(tam)\n",
    "\n",
    "    for i in range(tam_pos):\n",
    "        prefix_val_pos = 'VAL_POS_' + str(i)\n",
    "        val_arrays[i] = model.docvecs[prefix_val_pos]\n",
    "        val_labels[i] = 2\n",
    "\n",
    "    for i in range(tam_neg):\n",
    "        prefix_val_neg = 'VAL_NEG_' + str(i)\n",
    "        val_arrays[tam_pos + i] = model.docvecs[prefix_val_neg]\n",
    "        val_labels[tam_pos + i] = 0\n",
    "\n",
    "    for i in range(tam_neu):\n",
    "        prefix_val_neu = 'VAL_NEU_' + str(i)\n",
    "        val_arrays[tam_pos + tam_neg + i] = model.docvecs[prefix_val_neu]\n",
    "        val_labels[tam_pos + tam_neg + i] = 1\n",
    "        \n",
    "    return {\n",
    "        'train': {\n",
    "            'arrays': train_arrays,\n",
    "            'labels': train_labels\n",
    "        },\n",
    "        'val': {\n",
    "            'arrays': val_arrays,\n",
    "            'labels': val_labels\n",
    "        }\n",
    "    }"
   ]
  },
  {
   "cell_type": "markdown",
   "metadata": {},
   "source": [
    "## 3.2 Separar as fontes de dados"
   ]
  },
  {
   "cell_type": "code",
   "execution_count": 20,
   "metadata": {},
   "outputs": [],
   "source": [
    "# Train Set\n",
    "train_neg_set = X_train[y_train == -1]\n",
    "train_neu_set = X_train[y_train == 0]\n",
    "train_pos_set = X_train[y_train == 1]\n",
    "\n",
    "# Validation Set\n",
    "val_neg_set = X_val[y_val == -1]\n",
    "val_neu_set = X_val[y_val == 0]\n",
    "val_pos_set = X_val[y_val == 1]\n",
    "\n",
    "# Test Set\n",
    "test_neg_set = X_test[y_test == -1]\n",
    "test_neu_set = X_test[y_test == 0]\n",
    "test_pos_set = X_test[y_test == 1]"
   ]
  },
  {
   "cell_type": "markdown",
   "metadata": {},
   "source": [
    "## 3.3 Definir as fontes de dados"
   ]
  },
  {
   "cell_type": "code",
   "execution_count": 21,
   "metadata": {},
   "outputs": [],
   "source": [
    "sources = {\n",
    "    'train-neg':('TRAIN_NEG',train_neg_set.values),\n",
    "    'val-neg':('VAL_NEG',val_neg_set.values),\n",
    "    'test-neg':('TEST_NEG',test_neg_set.values),\n",
    "    \n",
    "    'train-neu':('TRAIN_NEU',train_neu_set.values),\n",
    "    'val-neu':('VAL_NEU',val_neu_set.values),\n",
    "    'test-neu':('TEST_NEU',test_neu_set.values),\n",
    "    \n",
    "    'test-pos':('TEST_POS',test_pos_set.values),\n",
    "    'val-pos':('VAL_POS',val_pos_set.values),\n",
    "    'train-pos':('TRAIN_POS',train_pos_set.values),\n",
    "\n",
    "}\n",
    "\n",
    "sentences = LabeledLineSentence(sources)"
   ]
  },
  {
   "cell_type": "markdown",
   "metadata": {},
   "source": [
    "## 3.4 Escolher Modelo Doc2Vec"
   ]
  },
  {
   "cell_type": "code",
   "execution_count": 22,
   "metadata": {},
   "outputs": [
    {
     "name": "stdout",
     "output_type": "stream",
     "text": [
      "Completed:\t 100.0%\n",
      "Best Score:\t 36.18%\n",
      "Best Params:\tFeatures: 4 Window: 4 Min Count: 3 Epochs: 10 Sampling: 0.0001 Dbow: 1\n"
     ]
    }
   ],
   "source": [
    "# Train Parameters\n",
    "#features = [5,10,20,40,80,120]\n",
    "features = [4]\n",
    "#window = [1,3,5,7,11,13,17]\n",
    "window = [4]\n",
    "#min_count = [1,2,3,4,5]\n",
    "min_count = [3]\n",
    "epochs = [10,20,30]\n",
    "sub_sample = [1e-4]\n",
    "dm = [1]\n",
    "    \n",
    "# Itera pelo produto cartesiano dos paramtros\n",
    "results = dict()\n",
    "iteration = 0\n",
    "total_iterations = len(features)*len(window)*len(min_count)*len(epochs)*len(sub_sample)*len(dm)\n",
    "best_score = 0\n",
    "best_params = None\n",
    "print('Completed:\\t 0.00%')\n",
    "print('Best Score:\\t 0.00%')\n",
    "for fw in itertools.product(features, window, min_count, epochs, sub_sample, dm):\n",
    "    \n",
    "    # Converter para inteiro\n",
    "    fea = fw[0]\n",
    "    win = fw[1]\n",
    "    m_cnt = fw[2]\n",
    "    epc = fw[3]\n",
    "    sam = fw[4]\n",
    "    d = fw[5]\n",
    "    \n",
    "    print('\\nTrying... Feature:', fea,'Window:',win,'Min Count:',m_cnt, 'Epochs:',epc, 'Sampling:', sam, 'Dbow:',d)\n",
    "\n",
    "    # Treina o modelo de acordo com as sentenças\n",
    "    model = train_model(sentences, features=fea, window=win, min_count=m_cnt, epochs=epc, sub_sample=sam, dm=d)\n",
    "\n",
    "    # Separar os dados de trainamento e validação\n",
    "    dados = split_data_for_gensim(train_pos_set, train_neg_set, train_neu_set, val_pos_set, val_neg_set, val_neu_set, fea)\n",
    "    train_arrays = dados['train']['arrays']\n",
    "    train_labels = dados['train']['labels']\n",
    "    val_arrays = dados['val']['arrays']\n",
    "    val_labels = dados['val']['labels']\n",
    "\n",
    "\n",
    "    # Scale Data\n",
    "    scaler = preprocessing.StandardScaler().fit(train_arrays)\n",
    "    train_arrays = scaler.transform(train_arrays)\n",
    "    val_arrays = scaler.transform(val_arrays)\n",
    "\n",
    "    classifier = LogisticRegression(n_jobs=-1)\n",
    "    classifier.fit(train_arrays, train_labels)\n",
    "\n",
    "    pred = classifier.predict(val_arrays)\n",
    "    score = f1_score(val_labels, pred, average='micro')\n",
    "    \n",
    "    results[(fea,win,m_cnt,epc,sam,d)] = score\n",
    "    \n",
    "    #\n",
    "    # Info\n",
    "    #\n",
    "    \n",
    "    if score>best_score:\n",
    "        best_score = score\n",
    "        best_params=fw\n",
    "    \n",
    "    iteration +=1\n",
    "    completed = str(round(iteration/total_iterations*100,2))+'%'\n",
    "    \n",
    "    clear_output(True)\n",
    "    print('Completed:\\t',completed)\n",
    "    print('Best Score:\\t',str(round(best_score*100,2))+'%')\n",
    "    print('Best Params:\\tFeatures:', best_params[0],'Window:',best_params[1],'Min Count:',best_params[2], 'Epochs:',best_params[3], 'Sampling:', best_params[4], 'Dbow:',best_params[5])"
   ]
  },
  {
   "cell_type": "markdown",
   "metadata": {},
   "source": [
    "#### Best Params\n",
    "Features: 4 Window: 4 Min Count: 3 Epochs: 20 Sampling: 0.0001 Dbow: 1"
   ]
  },
  {
   "cell_type": "code",
   "execution_count": 23,
   "metadata": {},
   "outputs": [
    {
     "name": "stdout",
     "output_type": "stream",
     "text": [
      "Doc2Vec - Feature: 4 Window: 4 Min Count: 3 Epochs: 10 Sampling: 0.0001 Dbow: 1\n"
     ]
    }
   ],
   "source": [
    "fea = 4\n",
    "win = 4\n",
    "m_cnt = 3\n",
    "epc = 10\n",
    "sam = 1e-4\n",
    "d = 1\n",
    "\n",
    "print('Doc2Vec - Feature:', fea,'Window:',win,'Min Count:',m_cnt, 'Epochs:',epc, 'Sampling:', sam, 'Dbow:',d)\n",
    "\n",
    "# Treina o modelo de acordo com as sentenças\n",
    "model = train_model(sentences, features=fea, window=win, min_count=m_cnt, epochs=epc, sub_sample=sam, dm=d)\n",
    "\n",
    "# Separar os dados de trainamento e validação\n",
    "dados = split_data_for_gensim(train_pos_set, train_neg_set, train_neu_set, val_pos_set, val_neg_set, val_neu_set, fea)\n",
    "train_arrays = dados['train']['arrays']\n",
    "train_labels = dados['train']['labels']\n",
    "val_arrays = dados['val']['arrays']\n",
    "val_labels = dados['val']['labels']\n",
    "\n",
    "\n",
    "# Scale Data\n",
    "scaler = preprocessing.StandardScaler().fit(train_arrays)\n",
    "train_arrays = scaler.transform(train_arrays)\n",
    "val_arrays = scaler.transform(val_arrays)"
   ]
  },
  {
   "cell_type": "markdown",
   "metadata": {},
   "source": [
    "## Escolher modelo RandomForest utilizando Random Search"
   ]
  },
  {
   "cell_type": "code",
   "execution_count": 24,
   "metadata": {},
   "outputs": [
    {
     "data": {
      "text/plain": [
       "RandomizedSearchCV(cv=10, error_score='raise',\n",
       "          estimator=RandomForestClassifier(bootstrap=True, class_weight=None, criterion='gini',\n",
       "            max_depth=None, max_features='auto', max_leaf_nodes=None,\n",
       "            min_impurity_decrease=0.0, min_impurity_split=None,\n",
       "            min_samples_leaf=1, min_samples_split=2,\n",
       "            min_weight_fraction_leaf=0.0, n_estimators=10, n_jobs=-1,\n",
       "            oob_score=False, random_state=None, verbose=0,\n",
       "            warm_start=False),\n",
       "          fit_params=None, iid=True, n_iter=60, n_jobs=-1,\n",
       "          param_distributions={'n_estimators': [10, 26, 43, 60, 77, 93, 110, 127, 144, 161, 177, 194, 211, 228, 244, 261, 278, 295, 312, 328, 345, 362, 379, 395, 412, 429, 446, 463, 479, 496, 513, 530, 546, 563, 580, 597, 614, 630, 647, 664, 681, 697, 714, 731, 748, 765, 781, 798, 815, 832, 848, 865, 882, 899...30, 31, None], 'min_samples_split': [2, 3, 4, 5, 7, 10], 'min_samples_leaf': [1, 2, 3, 4, 5, 7, 10]},\n",
       "          pre_dispatch='2*n_jobs', random_state=None, refit=True,\n",
       "          return_train_score='warn', scoring='f1_micro', verbose=0)"
      ]
     },
     "execution_count": 24,
     "metadata": {},
     "output_type": "execute_result"
    }
   ],
   "source": [
    "from sklearn.model_selection import RandomizedSearchCV\n",
    "from sklearn.ensemble import RandomForestClassifier\n",
    "from sklearn.tree import DecisionTreeClassifier\n",
    "\n",
    "\n",
    "initial_tree = DecisionTreeClassifier()\n",
    "initial_tree.fit(train_arrays, train_labels)\n",
    "max_depth = [int(x) for x in np.linspace(2, initial_tree.tree_.max_depth, 60)]\n",
    "max_depth.append(None)\n",
    "\n",
    "\n",
    "model = RandomForestClassifier(n_jobs=-1)\n",
    "\n",
    "parameters = {\n",
    "    'n_estimators': [int(x) for x in np.linspace(10, 1000, 60)],\n",
    "    'max_features': ['auto','log2', None],\n",
    "    'max_depth': max_depth,\n",
    "    'min_samples_split': [2,3,4,5,7,10],\n",
    "    'min_samples_leaf': [1,2,3,4,5,7,10],\n",
    "    \n",
    "}\n",
    "\n",
    "random_search = RandomizedSearchCV(model, parameters, n_jobs=-1, scoring='f1_micro', n_iter=60, cv=10)\n",
    "\n",
    "random_search.fit(train_arrays, train_labels)"
   ]
  },
  {
   "cell_type": "code",
   "execution_count": 25,
   "metadata": {},
   "outputs": [
    {
     "data": {
      "text/plain": [
       "RandomForestClassifier(bootstrap=True, class_weight=None, criterion='gini',\n",
       "            max_depth=6, max_features='auto', max_leaf_nodes=None,\n",
       "            min_impurity_decrease=0.0, min_impurity_split=None,\n",
       "            min_samples_leaf=2, min_samples_split=4,\n",
       "            min_weight_fraction_leaf=0.0, n_estimators=379, n_jobs=-1,\n",
       "            oob_score=False, random_state=None, verbose=0,\n",
       "            warm_start=False)"
      ]
     },
     "execution_count": 25,
     "metadata": {},
     "output_type": "execute_result"
    }
   ],
   "source": [
    "random_search.best_estimator_"
   ]
  },
  {
   "cell_type": "markdown",
   "metadata": {},
   "source": [
    "## Mostrar Curva de Aprendizado"
   ]
  },
  {
   "cell_type": "code",
   "execution_count": 27,
   "metadata": {},
   "outputs": [
    {
     "data": {
      "image/png": "[encoded data removed]",
      "text/plain": [
       "<Figure size 576x432 with 1 Axes>"
      ]
     },
     "metadata": {},
     "output_type": "display_data"
    }
   ],
   "source": [
    "title = \"Learning Curves: Random Forest - F1 Score Micro\"\n",
    "\n",
    "plt = plot_learning_curve(random_search.best_estimator_, title, train_arrays, train_labels, cv=10, n_jobs=-1,scoring='f1_micro')\n",
    "plt.show()"
   ]
  }
 ],
 "metadata": {
  "kernelspec": {
   "display_name": "Python 3",
   "language": "python",
   "name": "python3"
  },
  "language_info": {
   "codemirror_mode": {
    "name": "ipython",
    "version": 3
   },
   "file_extension": ".py",
   "mimetype": "text/x-python",
   "name": "python",
   "nbconvert_exporter": "python",
   "pygments_lexer": "ipython3",
   "version": "3.6.5"
  }
 },
 "nbformat": 4,
 "nbformat_minor": 2
}
